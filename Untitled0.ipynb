{
  "nbformat": 4,
  "nbformat_minor": 0,
  "metadata": {
    "colab": {
      "provenance": [],
      "authorship_tag": "ABX9TyNOVmN7U143CdFhLlCJnh6X",
      "include_colab_link": true
    },
    "kernelspec": {
      "name": "python3",
      "display_name": "Python 3"
    },
    "language_info": {
      "name": "python"
    }
  },
  "cells": [
    {
      "cell_type": "markdown",
      "metadata": {
        "id": "view-in-github",
        "colab_type": "text"
      },
      "source": [
        "<a href=\"https://colab.research.google.com/github/alu225210-dev/repaso-de-phyton/blob/main/Untitled0.ipynb\" target=\"_parent\"><img src=\"https://colab.research.google.com/assets/colab-badge.svg\" alt=\"Open In Colab\"/></a>"
      ]
    },
    {
      "cell_type": "code",
      "execution_count": null,
      "metadata": {
        "id": "_JhMN-Ky_O3x"
      },
      "outputs": [],
      "source": []
    },
    {
      "cell_type": "markdown",
      "source": [
        "Realizar un programa que permita capturar tu nombrey lo imprima seguido de una bienvenida"
      ],
      "metadata": {
        "id": "09UwIIG5BDw9"
      }
    },
    {
      "cell_type": "code",
      "source": [
        "nombre= input (\"escribe tu nombre: \")\n",
        "print (\"bienvenido, \" + nombre)\n"
      ],
      "metadata": {
        "colab": {
          "base_uri": "https://localhost:8080/"
        },
        "id": "kPYviPmcBWXT",
        "outputId": "078b493d-5afa-469f-8410-9ec7f589f0b4"
      },
      "execution_count": 3,
      "outputs": [
        {
          "output_type": "stream",
          "name": "stdout",
          "text": [
            "escribe tu nombre: abril\n",
            "bienvenido, abril\n"
          ]
        }
      ]
    },
    {
      "cell_type": "markdown",
      "source": [
        "Realizar un programa que permita capturar 2 numero enteros e imprima la suma, la resta, la multiplicacion y la division entre ellos"
      ],
      "metadata": {
        "id": "ayREMiZ-C7-5"
      }
    },
    {
      "cell_type": "code",
      "source": [
        "num1= int(input(\"Captura un numero\"))\n",
        "num2= int(input(\"Captura un numero\"))\n",
        "s=num1+num2\n",
        "print(\"La suma es\",s)\n",
        "\n",
        "print(\"La resta es: \", num1 - num2)\n",
        "print(\"La multiplicacion es: \", num1 * num2)\n",
        "print(\"La mdivision es: \", num1 / num2)\n",
        "\n"
      ],
      "metadata": {
        "colab": {
          "base_uri": "https://localhost:8080/"
        },
        "id": "DUoALMLkDPY4",
        "outputId": "194adf9e-5be7-440e-b826-90d38a3c14b2"
      },
      "execution_count": 10,
      "outputs": [
        {
          "output_type": "stream",
          "name": "stdout",
          "text": [
            "Captura un numero12\n",
            "Captura un numero8\n",
            "La suma es 20\n",
            "La resta es:  4\n",
            "La multiplicacion es:  96\n",
            "La mdivision es:  1.5\n"
          ]
        }
      ]
    }
  ]
}